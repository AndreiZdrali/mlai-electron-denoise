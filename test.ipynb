{
 "cells": [
  {
   "cell_type": "code",
   "execution_count": 5,
   "metadata": {},
   "outputs": [],
   "source": [
    "import torch\n",
    "from torch import nn\n",
    "from torch.nn import functional as F\n",
    "from torch.utils.data import DataLoader\n",
    "from torchvision import transforms\n",
    "from model import PRIDNet  # Assuming PRIDNet is defined in model.py\n",
    "from PIL import Image\n",
    "import os"
   ]
  },
  {
   "cell_type": "code",
   "execution_count": 6,
   "metadata": {},
   "outputs": [],
   "source": [
    "def calculate_psnr(denoised, target):\n",
    "  \"\"\"\n",
    "  Calculates Peak Signal-to-Noise Ratio (PSNR) between two images.\n",
    "  Args:\n",
    "    denoised: Denoised image tensor.\n",
    "    target: Clean image tensor.\n",
    "  Returns:\n",
    "    PSNR value in dB.\n",
    "  \"\"\"\n",
    "  mse = nn.functional.mse_loss(denoised, target)\n",
    "  max_pixel = 1.0  # Assuming pixel values are normalized between 0 and 1\n",
    "  psnr = 10 * torch.log10(max_pixel**2 / mse)\n",
    "  return psnr.item()\n",
    "\n",
    "def get_data(data_dir):\n",
    "  \"\"\"\n",
    "  Loads and preprocesses image data from a directory.\n",
    "  Args:\n",
    "    data_dir: Path to the directory containing images.\n",
    "  Returns:\n",
    "    A list of tuples (noisy_image, clean_image).\n",
    "  \"\"\"\n",
    "  data = []\n",
    "  transform = transforms.Compose([\n",
    "      transforms.ToTensor(),\n",
    "      transforms.Normalize((0.5, 0.5, 0.5), (0.5, 0.5, 0.5))  # Normalize to [0, 1]\n",
    "  ])\n",
    "  for filename in os.listdir(data_dir):\n",
    "    noisy_path = os.path.join(data_dir, filename)\n",
    "    clean_path = os.path.join(os.path.dirname(data_dir), \"train\", filename)\n",
    "    if os.path.isfile(noisy_path) and os.path.isfile(clean_path):\n",
    "      noisy_image = transform(Image.open(noisy_path).convert('RGB'))\n",
    "      clean_image = transform(Image.open(clean_path).convert('RGB'))\n",
    "      data.append((noisy_image, clean_image))\n",
    "  return data"
   ]
  },
  {
   "cell_type": "code",
   "execution_count": 1,
   "metadata": {},
   "outputs": [
    {
     "ename": "NameError",
     "evalue": "name 'PRIDNet' is not defined",
     "output_type": "error",
     "traceback": [
      "\u001b[1;31m---------------------------------------------------------------------------\u001b[0m",
      "\u001b[1;31mNameError\u001b[0m                                 Traceback (most recent call last)",
      "Cell \u001b[1;32mIn[1], line 2\u001b[0m\n\u001b[0;32m      1\u001b[0m \u001b[38;5;66;03m# Load model\u001b[39;00m\n\u001b[1;32m----> 2\u001b[0m model \u001b[38;5;241m=\u001b[39m \u001b[43mPRIDNet\u001b[49m(\u001b[38;5;241m3\u001b[39m, \u001b[38;5;241m3\u001b[39m)\n\u001b[0;32m      4\u001b[0m \u001b[38;5;66;03m# Define training parameters\u001b[39;00m\n\u001b[0;32m      5\u001b[0m learning_rate \u001b[38;5;241m=\u001b[39m \u001b[38;5;241m0.001\u001b[39m\n",
      "\u001b[1;31mNameError\u001b[0m: name 'PRIDNet' is not defined"
     ]
    }
   ],
   "source": [
    "# Load model\n",
    "model = PRIDNet(3, 3)\n",
    "\n",
    "# Define training parameters\n",
    "learning_rate = 0.001\n",
    "epochs = 100\n",
    "device = torch.device(\"cuda\" if torch.cuda.is_available() else \"cpu\")\n",
    "model.to(device)\n",
    "\n",
    "# Load data\n",
    "train_data = get_data(\"data\\\\train_noisy\")\n",
    "val_data = get_data(\"data\\\\train\")  # Assuming validation data is also in \"train\" folder\n",
    "\n",
    "# Create data loaders\n",
    "#train_loader = DataLoader(train_data, batch_size=4, shuffle=True)\n",
    "#val_loader = DataLoader(val_data, batch_size=4)\n",
    "\n",
    "# Define loss function and optimizer\n",
    "criterion = nn.MSELoss()\n",
    "optimizer = torch.optim.Adam(model.parameters(), lr=learning_rate)"
   ]
  }
 ],
 "metadata": {
  "kernelspec": {
   "display_name": "Python 3 (ipykernel)",
   "language": "python",
   "name": "python3"
  },
  "language_info": {
   "codemirror_mode": {
    "name": "ipython",
    "version": 3
   },
   "file_extension": ".py",
   "mimetype": "text/x-python",
   "name": "python",
   "nbconvert_exporter": "python",
   "pygments_lexer": "ipython3",
   "version": "3.12.2"
  }
 },
 "nbformat": 4,
 "nbformat_minor": 2
}
